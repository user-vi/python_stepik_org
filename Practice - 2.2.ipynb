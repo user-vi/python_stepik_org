{
 "cells": [
  {
   "cell_type": "code",
   "execution_count": 3,
   "metadata": {},
   "outputs": [],
   "source": [
    "from sklearn import tree\n",
    "import pandas as pd\n",
    "import numpy as np\n",
    "import matplotlib.pyplot as plt\n",
    "import seaborn as sns\n",
    "from sklearn.model_selection import cross_val_score\n",
    "\n",
    "%matplotlib inline"
   ]
  },
  {
   "cell_type": "code",
   "execution_count": 2,
   "metadata": {},
   "outputs": [
    {
     "data": {
      "text/html": [
       "<style>svg{width:10% !important;height:10% !important;}</style>"
      ],
      "text/plain": [
       "<IPython.core.display.HTML object>"
      ]
     },
     "execution_count": 2,
     "metadata": {},
     "output_type": "execute_result"
    }
   ],
   "source": [
    "from IPython.display import SVG\n",
    "# from graphviz import Source\n",
    "# from python-graphviz import Source\n",
    "from IPython.display import display\n",
    "\n",
    "from IPython.display import HTML\n",
    "style = \"<style>svg{width:10% !important;height:10% !important;}</style>\"\n",
    "HTML(style)"
   ]
  },
  {
   "cell_type": "code",
   "execution_count": 3,
   "metadata": {},
   "outputs": [],
   "source": [
    "df_song = pd.read_csv('https://stepik.org/media/attachments/course/4852/songs.csv')"
   ]
  },
  {
   "cell_type": "code",
   "execution_count": 21,
   "metadata": {},
   "outputs": [],
   "source": [
    "# преобразуем датасет для классификации\n",
    "X = df_song.drop(['artist', 'lyrics', 'song'], axis=1)\n",
    "y = df_song['artist']\n",
    "\n",
    "# импортируем библиотеку для разбивки выборки на тестовую и тренировочную\n",
    "from sklearn.model_selection import train_test_split\n",
    "\n",
    "# разбиваем выборку в пропорции 0,67/0,33\n",
    "X_train, X_test, y_train, y_test = train_test_split(X, y, test_size = 0.33, random_state = 42)"
   ]
  },
  {
   "cell_type": "code",
   "execution_count": 35,
   "metadata": {},
   "outputs": [
    {
     "data": {
      "text/html": [
       "<div>\n",
       "<style scoped>\n",
       "    .dataframe tbody tr th:only-of-type {\n",
       "        vertical-align: middle;\n",
       "    }\n",
       "\n",
       "    .dataframe tbody tr th {\n",
       "        vertical-align: top;\n",
       "    }\n",
       "\n",
       "    .dataframe thead th {\n",
       "        text-align: right;\n",
       "    }\n",
       "</style>\n",
       "<table border=\"1\" class=\"dataframe\">\n",
       "  <thead>\n",
       "    <tr style=\"text-align: right;\">\n",
       "      <th></th>\n",
       "      <th>year</th>\n",
       "      <th>length</th>\n",
       "      <th>commas</th>\n",
       "      <th>exclamations</th>\n",
       "      <th>colons</th>\n",
       "      <th>hyphens</th>\n",
       "      <th>genre_Hip-Hop</th>\n",
       "      <th>genre_Metal</th>\n",
       "      <th>genre_Pop</th>\n",
       "    </tr>\n",
       "  </thead>\n",
       "  <tbody>\n",
       "    <tr>\n",
       "      <th>278</th>\n",
       "      <td>2006</td>\n",
       "      <td>677</td>\n",
       "      <td>0</td>\n",
       "      <td>0</td>\n",
       "      <td>0</td>\n",
       "      <td>0</td>\n",
       "      <td>0</td>\n",
       "      <td>1</td>\n",
       "      <td>0</td>\n",
       "    </tr>\n",
       "    <tr>\n",
       "      <th>118</th>\n",
       "      <td>2009</td>\n",
       "      <td>1894</td>\n",
       "      <td>7</td>\n",
       "      <td>0</td>\n",
       "      <td>0</td>\n",
       "      <td>0</td>\n",
       "      <td>0</td>\n",
       "      <td>0</td>\n",
       "      <td>1</td>\n",
       "    </tr>\n",
       "    <tr>\n",
       "      <th>31</th>\n",
       "      <td>2009</td>\n",
       "      <td>1031</td>\n",
       "      <td>12</td>\n",
       "      <td>0</td>\n",
       "      <td>0</td>\n",
       "      <td>2</td>\n",
       "      <td>0</td>\n",
       "      <td>0</td>\n",
       "      <td>1</td>\n",
       "    </tr>\n",
       "    <tr>\n",
       "      <th>36</th>\n",
       "      <td>2006</td>\n",
       "      <td>306</td>\n",
       "      <td>0</td>\n",
       "      <td>0</td>\n",
       "      <td>0</td>\n",
       "      <td>0</td>\n",
       "      <td>0</td>\n",
       "      <td>1</td>\n",
       "      <td>0</td>\n",
       "    </tr>\n",
       "    <tr>\n",
       "      <th>153</th>\n",
       "      <td>2006</td>\n",
       "      <td>1013</td>\n",
       "      <td>0</td>\n",
       "      <td>0</td>\n",
       "      <td>0</td>\n",
       "      <td>0</td>\n",
       "      <td>0</td>\n",
       "      <td>1</td>\n",
       "      <td>0</td>\n",
       "    </tr>\n",
       "  </tbody>\n",
       "</table>\n",
       "</div>"
      ],
      "text/plain": [
       "     year  length  commas  exclamations  colons  hyphens  genre_Hip-Hop  \\\n",
       "278  2006     677       0             0       0        0              0   \n",
       "118  2009    1894       7             0       0        0              0   \n",
       "31   2009    1031      12             0       0        2              0   \n",
       "36   2006     306       0             0       0        0              0   \n",
       "153  2006    1013       0             0       0        0              0   \n",
       "\n",
       "     genre_Metal  genre_Pop  \n",
       "278            1          0  \n",
       "118            0          1  \n",
       "31             0          1  \n",
       "36             1          0  \n",
       "153            1          0  "
      ]
     },
     "execution_count": 35,
     "metadata": {},
     "output_type": "execute_result"
    }
   ],
   "source": [
    "#преобразуем качественные переменые в бинарную матрицу\n",
    "X_train = pd.get_dummies(X_train)\n",
    "X_test = pd.get_dummies(X_test)\n",
    "X_train.head()"
   ]
  },
  {
   "cell_type": "code",
   "execution_count": 64,
   "metadata": {},
   "outputs": [],
   "source": [
    "# зададим глубине дерева диапазон\n",
    "max_depth_values = range(1, 20)\n",
    "\n",
    "# создадим пустой датафрейм для накопления данных\n",
    "scores_data = pd.DataFrame()\n",
    "\n",
    "# итерируемся 100 раз в разной глубиной дерева\n",
    "# np.random.seed(0)\n",
    "for max_depth in max_depth_values:\n",
    "    clf = tree.DecisionTreeClassifier(criterion='entropy', max_depth = max_depth)\n",
    "    clf.fit(X_train, y_train)\n",
    "#     train_score = clf.score(X_train, y_train)\n",
    "    \n",
    "    predictions = clf.predict(X_test)\n",
    "    precision = precision_score(y_test, predictions, average='micro')  \n",
    "    \n",
    "    \n",
    "#     mean_cross_val_score = cross_val_score(clf, X_train, y_train, cv = 5).mean()\n",
    "    \n",
    "    temp_data = pd.DataFrame({\n",
    "        'max_depth': [max_depth], \n",
    "        'train_score': [precision] \n",
    "#         'cross_val_score': [mean_cross_val_score]\n",
    "    })\n",
    "    scores_data = scores_data.append(temp_data)\n"
   ]
  },
  {
   "cell_type": "code",
   "execution_count": 78,
   "metadata": {},
   "outputs": [],
   "source": [
    "clf = tree.DecisionTreeClassifier(criterion='entropy', max_depth = 3)\n",
    "clf.fit(X_train, y_train)\n",
    "predictions = clf.predict(X_test)\n",
    "precision = precision_score(y_test.reindex(), predictions, average='micro')"
   ]
  },
  {
   "cell_type": "code",
   "execution_count": 80,
   "metadata": {},
   "outputs": [
    {
     "name": "stderr",
     "output_type": "stream",
     "text": [
      "C:\\ProgramData\\Anaconda3\\lib\\site-packages\\pandas\\core\\indexing.py:1472: FutureWarning: \n",
      "Passing list-likes to .loc or [] with any missing label will raise\n",
      "KeyError in the future, you can use .reindex() as an alternative.\n",
      "\n",
      "See the documentation here:\n",
      "https://pandas.pydata.org/pandas-docs/stable/indexing.html#deprecate-loc-reindex-listlike\n",
      "  return self._getitem_tuple(key)\n"
     ]
    },
    {
     "data": {
      "text/plain": [
       "<matplotlib.axes._subplots.AxesSubplot at 0x2093e910978>"
      ]
     },
     "execution_count": 80,
     "metadata": {},
     "output_type": "execute_result"
    },
    {
     "data": {
      "image/png": "[encoded data removed]",
      "text/plain": [
       "<Figure size 432x288 with 1 Axes>"
      ]
     },
     "metadata": {
      "needs_background": "light"
     },
     "output_type": "display_data"
    }
   ],
   "source": [
    "# преобразуем (расплавим) таблицу для визуализации\n",
    "score_data_long = pd.melt(scores_data, \n",
    "                          id_vars=['max_depth'], \n",
    "                          value_vars=['precision'\n",
    "#                                       , 'cross_val_score'\n",
    "                                     ], \n",
    "                          var_name='set_type', \n",
    "                          value_name='score'\n",
    "                         )\n",
    "\n",
    "# построим график\n",
    "sns.lineplot(x = 'max_depth', y = 'score', hue = 'set_type', data = score_data_long)"
   ]
  },
  {
   "cell_type": "code",
   "execution_count": 60,
   "metadata": {},
   "outputs": [
    {
     "data": {
      "text/html": [
       "<div>\n",
       "<style scoped>\n",
       "    .dataframe tbody tr th:only-of-type {\n",
       "        vertical-align: middle;\n",
       "    }\n",
       "\n",
       "    .dataframe tbody tr th {\n",
       "        vertical-align: top;\n",
       "    }\n",
       "\n",
       "    .dataframe thead th {\n",
       "        text-align: right;\n",
       "    }\n",
       "</style>\n",
       "<table border=\"1\" class=\"dataframe\">\n",
       "  <thead>\n",
       "    <tr style=\"text-align: right;\">\n",
       "      <th></th>\n",
       "      <th>max_depth</th>\n",
       "      <th>set_type</th>\n",
       "      <th>score</th>\n",
       "    </tr>\n",
       "  </thead>\n",
       "  <tbody>\n",
       "    <tr>\n",
       "      <th>0</th>\n",
       "      <td>1</td>\n",
       "      <td>precision</td>\n",
       "      <td>NaN</td>\n",
       "    </tr>\n",
       "    <tr>\n",
       "      <th>1</th>\n",
       "      <td>2</td>\n",
       "      <td>precision</td>\n",
       "      <td>NaN</td>\n",
       "    </tr>\n",
       "    <tr>\n",
       "      <th>2</th>\n",
       "      <td>3</td>\n",
       "      <td>precision</td>\n",
       "      <td>NaN</td>\n",
       "    </tr>\n",
       "    <tr>\n",
       "      <th>3</th>\n",
       "      <td>4</td>\n",
       "      <td>precision</td>\n",
       "      <td>NaN</td>\n",
       "    </tr>\n",
       "    <tr>\n",
       "      <th>4</th>\n",
       "      <td>5</td>\n",
       "      <td>precision</td>\n",
       "      <td>NaN</td>\n",
       "    </tr>\n",
       "    <tr>\n",
       "      <th>5</th>\n",
       "      <td>6</td>\n",
       "      <td>precision</td>\n",
       "      <td>NaN</td>\n",
       "    </tr>\n",
       "    <tr>\n",
       "      <th>6</th>\n",
       "      <td>7</td>\n",
       "      <td>precision</td>\n",
       "      <td>NaN</td>\n",
       "    </tr>\n",
       "    <tr>\n",
       "      <th>7</th>\n",
       "      <td>8</td>\n",
       "      <td>precision</td>\n",
       "      <td>NaN</td>\n",
       "    </tr>\n",
       "    <tr>\n",
       "      <th>8</th>\n",
       "      <td>9</td>\n",
       "      <td>precision</td>\n",
       "      <td>NaN</td>\n",
       "    </tr>\n",
       "    <tr>\n",
       "      <th>9</th>\n",
       "      <td>10</td>\n",
       "      <td>precision</td>\n",
       "      <td>NaN</td>\n",
       "    </tr>\n",
       "    <tr>\n",
       "      <th>10</th>\n",
       "      <td>11</td>\n",
       "      <td>precision</td>\n",
       "      <td>NaN</td>\n",
       "    </tr>\n",
       "    <tr>\n",
       "      <th>11</th>\n",
       "      <td>12</td>\n",
       "      <td>precision</td>\n",
       "      <td>NaN</td>\n",
       "    </tr>\n",
       "    <tr>\n",
       "      <th>12</th>\n",
       "      <td>13</td>\n",
       "      <td>precision</td>\n",
       "      <td>NaN</td>\n",
       "    </tr>\n",
       "    <tr>\n",
       "      <th>13</th>\n",
       "      <td>14</td>\n",
       "      <td>precision</td>\n",
       "      <td>NaN</td>\n",
       "    </tr>\n",
       "    <tr>\n",
       "      <th>14</th>\n",
       "      <td>15</td>\n",
       "      <td>precision</td>\n",
       "      <td>NaN</td>\n",
       "    </tr>\n",
       "    <tr>\n",
       "      <th>15</th>\n",
       "      <td>16</td>\n",
       "      <td>precision</td>\n",
       "      <td>NaN</td>\n",
       "    </tr>\n",
       "    <tr>\n",
       "      <th>16</th>\n",
       "      <td>17</td>\n",
       "      <td>precision</td>\n",
       "      <td>NaN</td>\n",
       "    </tr>\n",
       "    <tr>\n",
       "      <th>17</th>\n",
       "      <td>18</td>\n",
       "      <td>precision</td>\n",
       "      <td>NaN</td>\n",
       "    </tr>\n",
       "    <tr>\n",
       "      <th>18</th>\n",
       "      <td>19</td>\n",
       "      <td>precision</td>\n",
       "      <td>NaN</td>\n",
       "    </tr>\n",
       "  </tbody>\n",
       "</table>\n",
       "</div>"
      ],
      "text/plain": [
       "    max_depth   set_type  score\n",
       "0           1  precision    NaN\n",
       "1           2  precision    NaN\n",
       "2           3  precision    NaN\n",
       "3           4  precision    NaN\n",
       "4           5  precision    NaN\n",
       "5           6  precision    NaN\n",
       "6           7  precision    NaN\n",
       "7           8  precision    NaN\n",
       "8           9  precision    NaN\n",
       "9          10  precision    NaN\n",
       "10         11  precision    NaN\n",
       "11         12  precision    NaN\n",
       "12         13  precision    NaN\n",
       "13         14  precision    NaN\n",
       "14         15  precision    NaN\n",
       "15         16  precision    NaN\n",
       "16         17  precision    NaN\n",
       "17         18  precision    NaN\n",
       "18         19  precision    NaN"
      ]
     },
     "execution_count": 60,
     "metadata": {},
     "output_type": "execute_result"
    }
   ],
   "source": [
    "score_data_long"
   ]
  },
  {
   "cell_type": "code",
   "execution_count": 77,
   "metadata": {},
   "outputs": [
    {
     "data": {
      "text/plain": [
       "1.0"
      ]
     },
     "execution_count": 77,
     "metadata": {},
     "output_type": "execute_result"
    }
   ],
   "source": [
    "from sklearn.metrics import precision_score\n",
    "clf = tree.DecisionTreeClassifier(criterion='entropy', max_depth = 3)\n",
    "clf.fit(X_train, y_train)\n",
    "predictions = clf.predict(X_test)\n",
    "precision = precision_score(y_test, predictions, average='micro')\n",
    "precision"
   ]
  },
  {
   "cell_type": "code",
   "execution_count": 73,
   "metadata": {},
   "outputs": [
    {
     "data": {
      "text/plain": [
       "array(['abba', 'gangstarr', 'abba', 'abba', 'abba', 'gangstarr',\n",
       "       'blind-guardian', 'gangstarr', 'abba', 'blind-guardian', 'abba',\n",
       "       'gangstarr', 'blind-guardian', 'gangstarr', 'gangstarr',\n",
       "       'blind-guardian', 'gangstarr', 'blind-guardian', 'blind-guardian',\n",
       "       'abba', 'abba', 'abba', 'gangstarr', 'blind-guardian',\n",
       "       'blind-guardian', 'abba', 'blind-guardian', 'blind-guardian',\n",
       "       'blind-guardian', 'abba', 'gangstarr', 'abba', 'abba', 'gangstarr',\n",
       "       'gangstarr', 'gangstarr', 'blind-guardian', 'gangstarr',\n",
       "       'gangstarr', 'abba', 'abba', 'abba', 'blind-guardian', 'abba',\n",
       "       'abba', 'blind-guardian', 'gangstarr', 'gangstarr', 'gangstarr',\n",
       "       'blind-guardian', 'abba', 'abba', 'blind-guardian', 'abba',\n",
       "       'gangstarr', 'gangstarr', 'blind-guardian', 'blind-guardian',\n",
       "       'blind-guardian', 'blind-guardian', 'blind-guardian',\n",
       "       'blind-guardian', 'blind-guardian', 'gangstarr', 'gangstarr',\n",
       "       'gangstarr', 'gangstarr', 'gangstarr', 'gangstarr',\n",
       "       'blind-guardian', 'blind-guardian', 'blind-guardian',\n",
       "       'blind-guardian', 'gangstarr', 'blind-guardian', 'abba', 'abba',\n",
       "       'abba', 'abba', 'abba', 'blind-guardian', 'abba', 'blind-guardian',\n",
       "       'abba', 'abba', 'blind-guardian', 'gangstarr', 'abba', 'abba',\n",
       "       'abba', 'abba', 'abba', 'blind-guardian', 'abba', 'blind-guardian',\n",
       "       'abba', 'blind-guardian', 'blind-guardian', 'blind-guardian',\n",
       "       'gangstarr', 'gangstarr', 'gangstarr', 'abba', 'gangstarr',\n",
       "       'blind-guardian', 'gangstarr', 'abba', 'abba', 'blind-guardian',\n",
       "       'blind-guardian', 'gangstarr', 'gangstarr', 'blind-guardian',\n",
       "       'blind-guardian', 'gangstarr', 'blind-guardian', 'blind-guardian',\n",
       "       'gangstarr', 'abba'], dtype=object)"
      ]
     },
     "execution_count": 73,
     "metadata": {},
     "output_type": "execute_result"
    }
   ],
   "source": [
    "predictions"
   ]
  },
  {
   "cell_type": "code",
   "execution_count": 74,
   "metadata": {},
   "outputs": [
    {
     "data": {
      "text/plain": [
       "224              abba\n",
       "42          gangstarr\n",
       "285              abba\n",
       "302              abba\n",
       "56               abba\n",
       "272         gangstarr\n",
       "15     blind-guardian\n",
       "57          gangstarr\n",
       "248              abba\n",
       "124    blind-guardian\n",
       "82               abba\n",
       "354         gangstarr\n",
       "210    blind-guardian\n",
       "339         gangstarr\n",
       "119         gangstarr\n",
       "126    blind-guardian\n",
       "203         gangstarr\n",
       "300    blind-guardian\n",
       "139    blind-guardian\n",
       "356              abba\n",
       "140              abba\n",
       "222              abba\n",
       "324         gangstarr\n",
       "33     blind-guardian\n",
       "297    blind-guardian\n",
       "220              abba\n",
       "147    blind-guardian\n",
       "325    blind-guardian\n",
       "25     blind-guardian\n",
       "73               abba\n",
       "            ...      \n",
       "295              abba\n",
       "60               abba\n",
       "114              abba\n",
       "258    blind-guardian\n",
       "110              abba\n",
       "218    blind-guardian\n",
       "229              abba\n",
       "17     blind-guardian\n",
       "145    blind-guardian\n",
       "24     blind-guardian\n",
       "101         gangstarr\n",
       "316         gangstarr\n",
       "185         gangstarr\n",
       "208              abba\n",
       "137         gangstarr\n",
       "155    blind-guardian\n",
       "225         gangstarr\n",
       "355              abba\n",
       "254              abba\n",
       "175    blind-guardian\n",
       "265    blind-guardian\n",
       "167         gangstarr\n",
       "193         gangstarr\n",
       "19     blind-guardian\n",
       "281    blind-guardian\n",
       "79          gangstarr\n",
       "163    blind-guardian\n",
       "18     blind-guardian\n",
       "301         gangstarr\n",
       "104              abba\n",
       "Name: artist, Length: 119, dtype: object"
      ]
     },
     "execution_count": 74,
     "metadata": {},
     "output_type": "execute_result"
    }
   ],
   "source": [
    "y_test"
   ]
  },
  {
   "cell_type": "code",
   "execution_count": 5,
   "metadata": {},
   "outputs": [],
   "source": [
    "from sklearn.tree import DecisionTreeClassifier"
   ]
  },
  {
   "cell_type": "code",
   "execution_count": null,
   "metadata": {},
   "outputs": [],
   "source": [
    "dt = DecisionTreeClassifier(criterion='entropy', max_depth = 5, min_samples_split = 5)"
   ]
  },
  {
   "cell_type": "code",
   "execution_count": null,
   "metadata": {},
   "outputs": [],
   "source": []
  },
  {
   "cell_type": "code",
   "execution_count": null,
   "metadata": {},
   "outputs": [],
   "source": []
  }
 ],
 "metadata": {
  "kernelspec": {
   "display_name": "Python 3",
   "language": "python",
   "name": "python3"
  },
  "language_info": {
   "codemirror_mode": {
    "name": "ipython",
    "version": 3
   },
   "file_extension": ".py",
   "mimetype": "text/x-python",
   "name": "python",
   "nbconvert_exporter": "python",
   "pygments_lexer": "ipython3",
   "version": "3.7.0"
  }
 },
 "nbformat": 4,
 "nbformat_minor": 2
}
