{
 "cells": [
  {
   "cell_type": "code",
   "execution_count": 1,
   "metadata": {},
   "outputs": [],
   "source": [
    "# !pip install selenium\n",
    "from selenium import webdriver\n",
    "import time"
   ]
  },
  {
   "cell_type": "code",
   "execution_count": 56,
   "metadata": {},
   "outputs": [],
   "source": [
    "# ВЫПОЛНИТЬ ОДИН РАЗ: \n",
    "# скачать драйвер для гугл хрома, прописать к файлу путь. Пример: C:/Users/User/Documents/chromedriver.exe"
   ]
  },
  {
   "cell_type": "code",
   "execution_count": 2,
   "metadata": {},
   "outputs": [],
   "source": [
    "# создаем экземпляр класса webdriver \n",
    "options = webdriver.ChromeOptions()\n",
    "options.add_argument('--ignore-certificate-errors')\n",
    "options.add_argument(\"--test-type\")\n",
    "# options.binary_location = \"C:/Users/User/Documents\"\n",
    "\n",
    "# new string\n",
    "driver = webdriver.Chrome(\"C:/Users/User/Documents/chromedriver.exe\")\n"
   ]
  },
  {
   "cell_type": "code",
   "execution_count": 66,
   "metadata": {},
   "outputs": [],
   "source": [
    "# функция Клик по кнопке. Подробнее в 7.2. Action Chains https://selenium-python.readthedocs.io/api.html\n",
    "\n",
    "def click_on_button(url, selector):\n",
    "#     открываем страницу\n",
    "    driver.get(url)\n",
    "    \n",
    "#     режим ожидания для загрузки страницы на 15 сек\n",
    "    time.sleep(5)\n",
    "    \n",
    "#     клик по кнопке\n",
    "    submit_button = driver.find_element_by_css_selector(selector)\n",
    "    submit_button.click()\n",
    "    "
   ]
  },
  {
   "cell_type": "code",
   "execution_count": 67,
   "metadata": {},
   "outputs": [],
   "source": [
    "url = 'http://www.neotlozhny-remont.ru'\n",
    "selector = \"#ya-phone\"\n",
    "click_on_button(url, selector)"
   ]
  },
  {
   "cell_type": "code",
   "execution_count": 68,
   "metadata": {},
   "outputs": [],
   "source": [
    "url = 'http://www.neotlozhny-remont.ru//montaj'\n",
    "selector = \"#ya-phone\"\n",
    "click_on_button(url, selector)"
   ]
  },
  {
   "cell_type": "code",
   "execution_count": null,
   "metadata": {},
   "outputs": [],
   "source": []
  },
  {
   "cell_type": "code",
   "execution_count": null,
   "metadata": {},
   "outputs": [],
   "source": []
  },
  {
   "cell_type": "code",
   "execution_count": null,
   "metadata": {},
   "outputs": [],
   "source": []
  },
  {
   "cell_type": "code",
   "execution_count": 4,
   "metadata": {},
   "outputs": [],
   "source": [
    "#     открываем страницу\n",
    "driver.get('https://alfabank.ru/get-money/credit/credit-cash/')"
   ]
  },
  {
   "cell_type": "code",
   "execution_count": 32,
   "metadata": {},
   "outputs": [],
   "source": [
    "# заполнить поле с фамилией\n",
    "form_textfield = driver.find_element_by_css_selector('[name=\"lastName\"]')\n",
    "form_textfield.send_keys(\"тестов\")\n",
    "\n",
    "# заполнить поле с именем\n",
    "form_textfield = driver.find_element_by_css_selector('[name=\"firstName\"]')\n",
    "form_textfield.send_keys(\"тестов\")\n",
    "\n",
    "# заполнить поле с отчеством\n",
    "form_textfield = driver.find_element_by_css_selector('[name=\"middleName\"]')\n",
    "form_textfield.send_keys(\"тестович\")\n",
    "\n",
    "# выбрать пол\n",
    "form_textfield = driver.find_element_by_css_selector('#draft-offer > div > form > div:nth-child(1) > div.a3cfz.b3cfz > button:nth-child(3)')\n",
    "form_textfield.click()\n",
    "\n",
    "# заполнить поле с номером\n",
    "form_textfield = driver.find_element_by_css_selector('[name = \"phone\"]')\n",
    "form_textfield.send_keys(\"9855448403\")\n",
    "\n",
    "# заполнить поле с почтой\n",
    "form_textfield = driver.find_element_by_css_selector('[name = \"email\"]')\n",
    "form_textfield.send_keys(\"test@test.ru\")\n",
    "\n",
    "# поставить на чекбокс\n",
    "form_textfield = driver.find_element_by_css_selector('#draft-offer > div > form > div:nth-child(3) > div > label > div.e22hE')\n",
    "form_textfield.click()\n",
    "\n",
    "# отправить форму\n",
    "form_textfield = driver.find_element_by_css_selector('#draft-offer > div > form > div.a1Vhv.p1Vhv.a3-GE > button')\n",
    "form_textfield.click()"
   ]
  },
  {
   "cell_type": "code",
   "execution_count": 33,
   "metadata": {},
   "outputs": [],
   "source": [
    "\n",
    "\n"
   ]
  },
  {
   "cell_type": "code",
   "execution_count": null,
   "metadata": {},
   "outputs": [],
   "source": []
  },
  {
   "cell_type": "code",
   "execution_count": 59,
   "metadata": {},
   "outputs": [],
   "source": [
    "# Google Analytics: функция получает clientID\n",
    "def get_clientId(driver):\n",
    "    cookies_list = driver.get_cookies()\n",
    "    cookies_dict = {}\n",
    "    for cookie in cookies_list:\n",
    "        cookies_dict[cookie['name']] = cookie['value']\n",
    "    return(cookies_dict['_ga'])\n"
   ]
  },
  {
   "cell_type": "code",
   "execution_count": 60,
   "metadata": {},
   "outputs": [
    {
     "data": {
      "text/plain": [
       "'1648826255.1593676349'"
      ]
     },
     "execution_count": 60,
     "metadata": {},
     "output_type": "execute_result"
    }
   ],
   "source": [
    "# вызываем функцию, делаем сабстринг\n",
    "get_clientId(driver)[6::]"
   ]
  },
  {
   "cell_type": "code",
   "execution_count": null,
   "metadata": {},
   "outputs": [],
   "source": []
  },
  {
   "cell_type": "code",
   "execution_count": null,
   "metadata": {},
   "outputs": [],
   "source": []
  },
  {
   "cell_type": "code",
   "execution_count": null,
   "metadata": {},
   "outputs": [],
   "source": []
  },
  {
   "cell_type": "code",
   "execution_count": null,
   "metadata": {},
   "outputs": [],
   "source": []
  },
  {
   "cell_type": "code",
   "execution_count": null,
   "metadata": {},
   "outputs": [],
   "source": []
  },
  {
   "cell_type": "code",
   "execution_count": null,
   "metadata": {},
   "outputs": [],
   "source": []
  },
  {
   "cell_type": "code",
   "execution_count": null,
   "metadata": {},
   "outputs": [],
   "source": []
  },
  {
   "cell_type": "code",
   "execution_count": null,
   "metadata": {},
   "outputs": [],
   "source": []
  },
  {
   "cell_type": "code",
   "execution_count": null,
   "metadata": {},
   "outputs": [],
   "source": []
  },
  {
   "cell_type": "code",
   "execution_count": null,
   "metadata": {},
   "outputs": [],
   "source": []
  },
  {
   "cell_type": "code",
   "execution_count": null,
   "metadata": {},
   "outputs": [],
   "source": []
  },
  {
   "cell_type": "code",
   "execution_count": null,
   "metadata": {},
   "outputs": [],
   "source": []
  }
 ],
 "metadata": {
  "kernelspec": {
   "display_name": "Python 3",
   "language": "python",
   "name": "python3"
  },
  "language_info": {
   "codemirror_mode": {
    "name": "ipython",
    "version": 3
   },
   "file_extension": ".py",
   "mimetype": "text/x-python",
   "name": "python",
   "nbconvert_exporter": "python",
   "pygments_lexer": "ipython3",
   "version": "3.7.4"
  }
 },
 "nbformat": 4,
 "nbformat_minor": 2
}
